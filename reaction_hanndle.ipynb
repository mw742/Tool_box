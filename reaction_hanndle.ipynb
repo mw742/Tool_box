{
 "cells": [
  {
   "cell_type": "code",
   "execution_count": 3,
   "id": "c954bb0a",
   "metadata": {},
   "outputs": [],
   "source": [
    "#! /usr/bin/python\n",
    "# coding: utf-8\n",
    "\n",
    "from rdkit import Chem\n",
    "from rdkit.Chem import AllChem\n",
    "from rdkit.Chem import Draw\n",
    "\n",
    "from rdkit.Chem import Recap\n",
    "from rdkit.Chem import BRICS\n",
    "\n",
    "acid = Chem.MolFromSmiles('CC(=O)O')\n",
    "base = Chem.MolFromSmiles('CC(=O)NCCN')\n",
    "mols = [acid, base]\n",
    "img = Draw.MolsToGridImage(\n",
    "    mols,\n",
    "    molsPerRow=2,\n",
    "    subImgSize=(200, 200),\n",
    "    legends=['acid', 'base'],\n",
    "    returnPNG=False\n",
    ")\n",
    "\n",
    "img.save('/Users/wmm/desktop/acid_base.jpg')\n"
   ]
  },
  {
   "cell_type": "code",
   "execution_count": 35,
   "id": "ea4f644d",
   "metadata": {},
   "outputs": [
    {
     "name": "stdout",
     "output_type": "stream",
     "text": [
      "<rdkit.Chem.rdChemReactions.ChemicalReaction object at 0x7f90cb21dee0>\n",
      "the num of products 1\n",
      "<rdkit.Chem.rdchem.Mol object at 0x7f90cb21a7b0>\n",
      "this product is CC(=O)NCCNC(C)=O\n",
      "<rdkit.Chem.rdchem.Mol object at 0x7f90cb21ae10>\n",
      "this product is O\n"
     ]
    }
   ],
   "source": [
    "import rdkit\n",
    "from rdkit import Chem\n",
    "from rdkit.Chem import AllChem\n",
    "from rdkit.Chem import rdmolfiles \n",
    "from rdkit.Chem import rdChemReactions\n",
    "rxn = AllChem.ReactionFromRxnFile('/Users/wmm/desktop/test.rxn')\n",
    "print(rxn)\n",
    "\n",
    "acid = Chem.MolFromSmiles('CC(=O)O')\n",
    "base = Chem.MolFromSmiles('CC(=O)NCCN')\n",
    "reacts = (acid, base)\n",
    "products = rxn.RunReactants(reacts)\n",
    "print('The num of products', len(products))\n",
    "\n",
    "n=0\n",
    "while n < len(products[0]):\n",
    "    print(products[0][n])\n",
    "    print('This product is', rdmolfiles.MolToSmiles(products[0][n]))\n",
    "    n+=1\n"
   ]
  },
  {
   "cell_type": "code",
   "execution_count": 37,
   "id": "e706de3b",
   "metadata": {},
   "outputs": [
    {
     "name": "stdout",
     "output_type": "stream",
     "text": [
      "smi= CCC(=O)OCCOc1ccccc1\n",
      "['*C(=O)CC', '*CCOC(=O)CC', '*CCOc1ccccc1', '*OCCOc1ccccc1', '*c1ccccc1']\n"
     ]
    }
   ],
   "source": [
    "# Recap方法通过模拟实验室中常用的化学反应，将反应分子分解成功合理的片段\n",
    "# Recap 方法返回的是类似于node tree结构的数据\n",
    "\n",
    "m = Chem.MolFromSmiles('c1ccccc1OCCOC(=O)CC')\n",
    "hierarch = Recap.RecapDecompose(m)\n",
    "type(hierarch)\n",
    "\n",
    "# 层次结构的原始分子\n",
    "print('smi=', hierarch.smiles)  # smi= CCC(=O)OCCOc1ccccc1\n",
    "\n",
    "# 每个节点使用smiles键控的字典跟踪其子节点\n",
    "ks = hierarch.children.keys()\n",
    "print(sorted(ks))"
   ]
  },
  {
   "cell_type": "code",
   "execution_count": 38,
   "id": "a516f026",
   "metadata": {},
   "outputs": [],
   "source": [
    "# RDKit 还提供了另一种把分子切成片段的方法——BRICS方法。 \n",
    "# BRICS方法主要是根据可合成的的键对分子进行切断\n",
    "# 因此其返回的数据结构是来自于该分子的不同分子片段， 虚拟原子（*）是告诉我们是如何切断的\n",
    "\n",
    "\n",
    "smi = 'C=CC(=O)N1CCC(CC1)C2CCNC3=C(C(=NN23)C4=CC=C(C=C4)OC5=CC=CC=C5)C(=O)N'\n",
    "m = Chem.MolFromSmiles(smi)\n",
    "Draw.MolToImageFile(\n",
    "    m,\n",
    "    \"/Users/wmm/desktop/test2.jpg\",\n",
    "    size=(600, 400),\n",
    "    legend='zanubrutinib(C=CC(=O)N1CCC(CC1)C2CCNC3=C(C(=NN23)C4=CC=C(C=C4)OC5=CC=CC=C5)C(=O)N)'\n",
    ")\n"
   ]
  },
  {
   "cell_type": "code",
   "execution_count": 40,
   "id": "33b7e06e",
   "metadata": {},
   "outputs": [
    {
     "name": "stdout",
     "output_type": "stream",
     "text": [
      "{'[3*]O[3*]', '[16*]c1ccccc1', '[5*]N1CCC(C2CCNc3c([16*])c([14*])nn32)CC1', '[6*]C(N)=O', '[16*]c1ccc([16*])cc1', '[1*]C(=O)C=C'}\n"
     ]
    }
   ],
   "source": [
    "frags = (BRICS.BRICSDecompose(m))\n",
    "print(frags)\n",
    "\n",
    "mols = []\n",
    "for fsmi in frags:\n",
    "    mols.append(Chem.MolFromSmiles(fsmi))\n",
    "\n",
    "img = Draw.MolsToGridImage(\n",
    "    mols,\n",
    "    molsPerRow=3,\n",
    "    subImgSize=(200, 200),\n",
    "    legends=['' for x in mols],\n",
    "     returnPNG=False\n",
    ")\n",
    "\n",
    "img.save('/Users/wmm/desktop/results_BRICS.jpg')\n"
   ]
  },
  {
   "cell_type": "code",
   "execution_count": null,
   "id": "f1b991ae",
   "metadata": {},
   "outputs": [],
   "source": []
  }
 ],
 "metadata": {
  "kernelspec": {
   "display_name": "Python [conda env:my-rdkit-env]",
   "language": "python",
   "name": "conda-env-my-rdkit-env-py"
  },
  "language_info": {
   "codemirror_mode": {
    "name": "ipython",
    "version": 3
   },
   "file_extension": ".py",
   "mimetype": "text/x-python",
   "name": "python",
   "nbconvert_exporter": "python",
   "pygments_lexer": "ipython3",
   "version": "3.7.11"
  }
 },
 "nbformat": 4,
 "nbformat_minor": 5
}
